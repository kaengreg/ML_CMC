{
 "cells": [
  {
   "cell_type": "code",
   "execution_count": 1,
   "id": "47d1566b",
   "metadata": {
    "_cell_guid": "b1076dfc-b9ad-4769-8c92-a6c4dae69d19",
    "_uuid": "8f2839f25d086af736a60e9eeb907d3b93b6e0e5",
    "execution": {
     "iopub.execute_input": "2024-03-20T21:28:19.293719Z",
     "iopub.status.busy": "2024-03-20T21:28:19.292949Z",
     "iopub.status.idle": "2024-03-20T21:28:20.224265Z",
     "shell.execute_reply": "2024-03-20T21:28:20.223057Z"
    },
    "papermill": {
     "duration": 0.943753,
     "end_time": "2024-03-20T21:28:20.226955",
     "exception": false,
     "start_time": "2024-03-20T21:28:19.283202",
     "status": "completed"
    },
    "tags": []
   },
   "outputs": [
    {
     "name": "stdout",
     "output_type": "stream",
     "text": [
      "/kaggle/input/cmc-ml-spotify-recommendations/added_info.csv\n",
      "/kaggle/input/cmc-ml-spotify-recommendations/audio_features.csv\n",
      "/kaggle/input/cmc-ml-spotify-recommendations/tracks_info.csv\n",
      "/kaggle/input/cmc-ml-spotify-recommendations/train.csv\n",
      "/kaggle/input/cmc-ml-spotify-recommendations/test.csv\n"
     ]
    }
   ],
   "source": [
    "# This Python 3 environment comes with many helpful analytics libraries installed\n",
    "# It is defined by the kaggle/python Docker image: https://github.com/kaggle/docker-python\n",
    "# For example, here's several helpful packages to load\n",
    "\n",
    "import numpy as np # linear algebra\n",
    "import pandas as pd # data processing, CSV file I/O (e.g. pd.read_csv)\n",
    "\n",
    "# Input data files are available in the read-only \"../input/\" directory\n",
    "# For example, running this (by clicking run or pressing Shift+Enter) will list all files under the input directory\n",
    "\n",
    "import os\n",
    "for dirname, _, filenames in os.walk('/kaggle/input'):\n",
    "    for filename in filenames:\n",
    "        print(os.path.join(dirname, filename))\n",
    "\n",
    "# You can write up to 20GB to the current directory (/kaggle/working/) that gets preserved as output when you create a version using \"Save & Run All\" \n",
    "# You can also write temporary files to /kaggle/temp/, but they won't be saved outside of the current session"
   ]
  },
  {
   "cell_type": "markdown",
   "id": "9709962c",
   "metadata": {
    "papermill": {
     "duration": 0.006784,
     "end_time": "2024-03-20T21:28:20.241609",
     "exception": false,
     "start_time": "2024-03-20T21:28:20.234825",
     "status": "completed"
    },
    "tags": []
   },
   "source": [
    "# Задание 10. Контест. Spotify recommendations"
   ]
  },
  {
   "cell_type": "markdown",
   "id": "9f03d0a0",
   "metadata": {
    "papermill": {
     "duration": 0.006528,
     "end_time": "2024-03-20T21:28:20.254999",
     "exception": false,
     "start_time": "2024-03-20T21:28:20.248471",
     "status": "completed"
    },
    "tags": []
   },
   "source": [
    "В этом задании вам предложен набор данных, содержащий информацию о некоторых плейлистах и треках музыкального сервиса Spotify.\n",
    "\n",
    "Признаковое описание состоит из результатов некоторых запросов в Spotify Web API (в частности **GET https:// api.spotify.com/v1/audio-features/{id}** и **GET https:// api.spotify.com/v1/playlists/{playlist_id}/tracks**), которые возвращают объекты, содержащие различные свойства треков и плейлистов. В выборку также добавлены закодированные номера артистов и альбомов (сквозная нумерация).\n",
    "\n",
    "\n",
    "\n",
    "1. В файле **added_info.csv** приводятся данные о том, когда и каким пользователем трек был добавлен в плейлист.\n",
    "\n",
    "2. В файле **audio_features.csv** содержатся сведения о некоторых музыкальных свойствах треков, таких как танцевальность, акустичность, громкость, темп и других.\n",
    "\n",
    "3. В файле **tracks_info.csv** содержатся данные об исполнителях и альбомах, связанных с той или иной композицией.\n",
    "\n",
    "\n",
    "Более подробно про признаки можно прочитать в [документации (англ.)](https://developer.spotify.com/documentation/web-api) Spotify Web API.\n",
    "\n",
    "\n",
    "В качестве метрики качества используется **F1-мера (F1 Score)** -- среднее гармоническое точности (Precision) и полноты (Recall)."
   ]
  },
  {
   "cell_type": "markdown",
   "id": "0e3b39f9",
   "metadata": {
    "papermill": {
     "duration": 0.006777,
     "end_time": "2024-03-20T21:28:20.268650",
     "exception": false,
     "start_time": "2024-03-20T21:28:20.261873",
     "status": "completed"
    },
    "tags": []
   },
   "source": [
    "В качестве значения, которое нужно предсказать, выступает бинарный признак принадлежности трека плейлисту. Если для пары плейлист-трек он равен 1, то плейлист содержит этот трек; если 0 -- то не содержит."
   ]
  },
  {
   "cell_type": "markdown",
   "id": "427f110c",
   "metadata": {
    "papermill": {
     "duration": 0.006652,
     "end_time": "2024-03-20T21:28:20.282114",
     "exception": false,
     "start_time": "2024-03-20T21:28:20.275462",
     "status": "completed"
    },
    "tags": []
   },
   "source": [
    "Вам необходимо разработать модель машинного обучения для предсказания **принадлежности треков плейлистам**, основанную на свойствах плейлистов, треков и пользователей.\n",
    "\n",
    "В папке с заданием помимо этого и вышеописанных файлов находятся:\n",
    "- 2 файла с данными об плейлистах и треках -- **train.csv** и **test.csv**, которые содержат, соответственно, тренировочную выборку (с известными значениями целевой переменной в поле **exists**) и признаковую часть тестовой выборки."
   ]
  },
  {
   "cell_type": "markdown",
   "id": "8343b34d",
   "metadata": {
    "papermill": {
     "duration": 0.006509,
     "end_time": "2024-03-20T21:28:20.295822",
     "exception": false,
     "start_time": "2024-03-20T21:28:20.289313",
     "status": "completed"
    },
    "tags": []
   },
   "source": [
    "В качестве ответа на это задание вы должны предоставить **Kaggle-ноутбук** (как создать такой ноутбук, читайте ниже), который:\n",
    "1. генерирует на выходе **csv-файл** со столбцом предсказанных принадлежностей треков плейлистам для пар из тестовой выборки и отправляет его в систему Kaggle. Пример такого файла находится в папке с заданием (**sample_submission.csv**);\n",
    "2. разрешает чтение пользователю [Sergey Serov](https://www.kaggle.com/ssserov/account).\n",
    "\n",
    "**НЕВЫПОЛНЕНИЕ ЛЮБОГО ИЗ УКАЗАННЫХ ПУНКТОВ ПРИВЕДЁТ К ОЦЕНИВАНИЮ ЗАДАНИЯ В 0 БАЛЛОВ!**"
   ]
  },
  {
   "cell_type": "markdown",
   "id": "1f35b44b",
   "metadata": {
    "papermill": {
     "duration": 0.006689,
     "end_time": "2024-03-20T21:28:20.309506",
     "exception": false,
     "start_time": "2024-03-20T21:28:20.302817",
     "status": "completed"
    },
    "tags": []
   },
   "source": [
    "**Как создать и отправить корректный Kaggle-ноутбук:**\n",
    "\n",
    "1. На странице соревнования перейдите на вкладку **Code** и нажмите **New Notebook**.\n",
    "![kaggle_notebook_1](https://i.ibb.co/4N7Ncf1/kaggle-notebook-1.png)\n",
    "2. **Никакие дополнительные данные для выполнения задания загружать не нужно** (но это не запрещено). Путь, по которому автоматически находятся необходимые файлы с данными, можно посмотреть, выполнив первую ячейку и изучив ее вывод.\n",
    "![kaggle_notebook_2](https://i.ibb.co/q0bpTNd/kaggle-notebook-2.png)"
   ]
  },
  {
   "cell_type": "markdown",
   "id": "20684b2f",
   "metadata": {
    "papermill": {
     "duration": 0.007233,
     "end_time": "2024-03-20T21:28:20.323775",
     "exception": false,
     "start_time": "2024-03-20T21:28:20.316542",
     "status": "completed"
    },
    "tags": []
   },
   "source": [
    "3. Дать права на чтение ноутбука пользователю [Sergey Serov](https://www.kaggle.com/ssserov/account). Для этого в верхней панели ноутбука нужно нажать кнопку **Share**, далее выбрать **Add collaborators** и в поиске найти пользователя Sergey Serov (вместо owner будет написано collaborator). Не забудьте сохранить изменения кнопкой **Save**.\n",
    "![kaggle_notebook_3.PNG](https://i.ibb.co/F0gRm3S/kaggle-notebook-3.png)\n",
    "![kaggle_notebook_4.PNG](https://i.ibb.co/25mBCKb/kaggle-notebook-4.png)\n",
    "\n",
    "После правильного действия Вы увидите:\n",
    "\n",
    "![kaggle_notebook_5.jpg](https://i.ibb.co/J5Kbgk2/kaggle-notebook-5.jpg)"
   ]
  },
  {
   "cell_type": "markdown",
   "id": "832fd8ff",
   "metadata": {
    "papermill": {
     "duration": 0.006866,
     "end_time": "2024-03-20T21:28:20.338151",
     "exception": false,
     "start_time": "2024-03-20T21:28:20.331285",
     "status": "completed"
    },
    "tags": []
   },
   "source": [
    "4. Для того, чтобы предсказания, полученные kaggle-ноутбуком были корректно учтены системой, он должен сохранять их следующей командой **submission.to_csv(\"/kaggle/working/submission.csv\", index_label=\"index\")**, где **submission** -- ваш датафрейм с предсказаниями (как в примере ниже)."
   ]
  },
  {
   "cell_type": "markdown",
   "id": "6fca20a2",
   "metadata": {
    "papermill": {
     "duration": 0.0071,
     "end_time": "2024-03-20T21:28:20.352549",
     "exception": false,
     "start_time": "2024-03-20T21:28:20.345449",
     "status": "completed"
    },
    "tags": []
   },
   "source": [
    "5. Для отправки ноутбука в правой его панели выберите вкладку **Competitions**, нажмите на кнопку **Submit**, по желанию введите название и описание посылки и подтвердите нажатием кнопки **Submit**.\n",
    "\n",
    "![kaggle_notebook_6.PNG](https://i.ibb.co/N2KsC0Y/kaggle-notebook-6.png)"
   ]
  },
  {
   "cell_type": "markdown",
   "id": "13efb88c",
   "metadata": {
    "papermill": {
     "duration": 0.007565,
     "end_time": "2024-03-20T21:28:20.367409",
     "exception": false,
     "start_time": "2024-03-20T21:28:20.359844",
     "status": "completed"
    },
    "tags": []
   },
   "source": [
    "6. Также этот ноутбук доступен в виде публичного кернела во вкладке **[Code](https://www.kaggle.com/competitions/cmc-ml-steam-activity-prediction/code)** соревнования. Его можно открыть, а затем сразу преобразовать в свой Kaggle-кернел, нажав на три точки справа вверху и выбрав опцию \"Copy & edit notebook\".\n",
    "![kaggle_notebook_7.png](https://i.ibb.co/hVRWzmN/kaggle-notebook-7.png)"
   ]
  },
  {
   "cell_type": "code",
   "execution_count": null,
   "id": "86d9f21c",
   "metadata": {
    "papermill": {
     "duration": 0.00683,
     "end_time": "2024-03-20T21:28:20.381557",
     "exception": false,
     "start_time": "2024-03-20T21:28:20.374727",
     "status": "completed"
    },
    "tags": []
   },
   "outputs": [],
   "source": []
  },
  {
   "cell_type": "markdown",
   "id": "9d0706c5",
   "metadata": {
    "execution": {
     "iopub.execute_input": "2024-03-20T21:20:06.201620Z",
     "iopub.status.busy": "2024-03-20T21:20:06.201032Z",
     "iopub.status.idle": "2024-03-20T21:20:06.255771Z",
     "shell.execute_reply": "2024-03-20T21:20:06.254467Z",
     "shell.execute_reply.started": "2024-03-20T21:20:06.201575Z"
    },
    "papermill": {
     "duration": 0.006689,
     "end_time": "2024-03-20T21:28:20.395324",
     "exception": false,
     "start_time": "2024-03-20T21:28:20.388635",
     "status": "completed"
    },
    "tags": []
   },
   "source": [
    "**Далее в этом ноутбуке покажем пример формирования csv-файла с предсказаниями принадлежности треков плейлистам для пар из тестовой выборки.**"
   ]
  },
  {
   "cell_type": "markdown",
   "id": "a0c91369",
   "metadata": {
    "papermill": {
     "duration": 0.006661,
     "end_time": "2024-03-20T21:28:20.409170",
     "exception": false,
     "start_time": "2024-03-20T21:28:20.402509",
     "status": "completed"
    },
    "tags": []
   },
   "source": [
    "Для начала импортируем библиотеки и загрузим данные из файлов **train.csv** и **test.csv**."
   ]
  },
  {
   "cell_type": "code",
   "execution_count": 2,
   "id": "2eda82d1",
   "metadata": {
    "execution": {
     "iopub.execute_input": "2024-03-20T21:28:20.425968Z",
     "iopub.status.busy": "2024-03-20T21:28:20.425089Z",
     "iopub.status.idle": "2024-03-20T21:28:21.760730Z",
     "shell.execute_reply": "2024-03-20T21:28:21.759590Z"
    },
    "papermill": {
     "duration": 1.347573,
     "end_time": "2024-03-20T21:28:21.763764",
     "exception": false,
     "start_time": "2024-03-20T21:28:20.416191",
     "status": "completed"
    },
    "tags": []
   },
   "outputs": [],
   "source": [
    "import pandas as pd\n",
    "from sklearn.metrics import f1_score"
   ]
  },
  {
   "cell_type": "code",
   "execution_count": 3,
   "id": "498a2999",
   "metadata": {
    "execution": {
     "iopub.execute_input": "2024-03-20T21:28:21.780336Z",
     "iopub.status.busy": "2024-03-20T21:28:21.779705Z",
     "iopub.status.idle": "2024-03-20T21:28:27.912652Z",
     "shell.execute_reply": "2024-03-20T21:28:27.911375Z"
    },
    "papermill": {
     "duration": 6.144307,
     "end_time": "2024-03-20T21:28:27.915251",
     "exception": false,
     "start_time": "2024-03-20T21:28:21.770944",
     "status": "completed"
    },
    "tags": []
   },
   "outputs": [
    {
     "data": {
      "text/html": [
       "<div>\n",
       "<style scoped>\n",
       "    .dataframe tbody tr th:only-of-type {\n",
       "        vertical-align: middle;\n",
       "    }\n",
       "\n",
       "    .dataframe tbody tr th {\n",
       "        vertical-align: top;\n",
       "    }\n",
       "\n",
       "    .dataframe thead th {\n",
       "        text-align: right;\n",
       "    }\n",
       "</style>\n",
       "<table border=\"1\" class=\"dataframe\">\n",
       "  <thead>\n",
       "    <tr style=\"text-align: right;\">\n",
       "      <th></th>\n",
       "      <th>index</th>\n",
       "      <th>playlist_id</th>\n",
       "      <th>track_id</th>\n",
       "      <th>exists</th>\n",
       "    </tr>\n",
       "  </thead>\n",
       "  <tbody>\n",
       "    <tr>\n",
       "      <th>0</th>\n",
       "      <td>1050194</td>\n",
       "      <td>32931</td>\n",
       "      <td>07vS8obfeZbr8H4MgQfXR7</td>\n",
       "      <td>1</td>\n",
       "    </tr>\n",
       "    <tr>\n",
       "      <th>1</th>\n",
       "      <td>645550</td>\n",
       "      <td>35527</td>\n",
       "      <td>1PEqh7awkpuepLBSq8ZwqD</td>\n",
       "      <td>1</td>\n",
       "    </tr>\n",
       "    <tr>\n",
       "      <th>2</th>\n",
       "      <td>2630414</td>\n",
       "      <td>12203</td>\n",
       "      <td>7E8pPgBY84oDaXRcqODavR</td>\n",
       "      <td>0</td>\n",
       "    </tr>\n",
       "    <tr>\n",
       "      <th>3</th>\n",
       "      <td>3168314</td>\n",
       "      <td>21850</td>\n",
       "      <td>0Atml4huw4Fgyk6YSHiK4M</td>\n",
       "      <td>0</td>\n",
       "    </tr>\n",
       "    <tr>\n",
       "      <th>4</th>\n",
       "      <td>3144464</td>\n",
       "      <td>21391</td>\n",
       "      <td>4WYDmIZrwxBHdBYdvi5oQO</td>\n",
       "      <td>0</td>\n",
       "    </tr>\n",
       "  </tbody>\n",
       "</table>\n",
       "</div>"
      ],
      "text/plain": [
       "     index  playlist_id                track_id  exists\n",
       "0  1050194        32931  07vS8obfeZbr8H4MgQfXR7       1\n",
       "1   645550        35527  1PEqh7awkpuepLBSq8ZwqD       1\n",
       "2  2630414        12203  7E8pPgBY84oDaXRcqODavR       0\n",
       "3  3168314        21850  0Atml4huw4Fgyk6YSHiK4M       0\n",
       "4  3144464        21391  4WYDmIZrwxBHdBYdvi5oQO       0"
      ]
     },
     "execution_count": 3,
     "metadata": {},
     "output_type": "execute_result"
    }
   ],
   "source": [
    "# Используйте эти пути для запуска ноутбука на Kaggle\n",
    "PATH_TO_KAGGLE_TRAIN = \"/kaggle/input/cmc-ml-spotify-recommendations/train.csv\"\n",
    "PATH_TO_KAGGLE_TEST = \"/kaggle/input/cmc-ml-spotify-recommendations/test.csv\"\n",
    "PATH_TO_KAGGLE_SUBMISSION = \"/kaggle/working/submission.csv\"\n",
    "\n",
    "# Если запускаете на своем компьютере, то впишите актуальные пути\n",
    "# PATH_TO_TRAIN = # Your Path\n",
    "# PATH_TO_TEST = # Your Path\n",
    "# PATH_TO_SUBMISSION = # Your Path\n",
    "\n",
    "train = pd.read_csv(PATH_TO_KAGGLE_TRAIN)\n",
    "test = pd.read_csv(PATH_TO_KAGGLE_TEST)\n",
    "\n",
    "X_train = train.drop([\"index\", \"exists\"], axis=1)\n",
    "y_train = train[\"exists\"]\n",
    "\n",
    "train.head()"
   ]
  },
  {
   "cell_type": "markdown",
   "id": "bdc58a54",
   "metadata": {
    "papermill": {
     "duration": 0.007259,
     "end_time": "2024-03-20T21:28:27.930094",
     "exception": false,
     "start_time": "2024-03-20T21:28:27.922835",
     "status": "completed"
    },
    "tags": []
   },
   "source": [
    "Затем создадим модель и обучим ее на тренировочной выборке."
   ]
  },
  {
   "cell_type": "code",
   "execution_count": 4,
   "id": "1ef55b63",
   "metadata": {
    "execution": {
     "iopub.execute_input": "2024-03-20T21:28:27.947034Z",
     "iopub.status.busy": "2024-03-20T21:28:27.946635Z",
     "iopub.status.idle": "2024-03-20T21:28:27.950972Z",
     "shell.execute_reply": "2024-03-20T21:28:27.949786Z"
    },
    "papermill": {
     "duration": 0.015693,
     "end_time": "2024-03-20T21:28:27.953389",
     "exception": false,
     "start_time": "2024-03-20T21:28:27.937696",
     "status": "completed"
    },
    "tags": []
   },
   "outputs": [],
   "source": [
    "# model = ## YOUR MODEL HERE ##\n",
    "# model.fit(X_train, y_train)"
   ]
  },
  {
   "cell_type": "markdown",
   "id": "050948b7",
   "metadata": {
    "papermill": {
     "duration": 0.007136,
     "end_time": "2024-03-20T21:28:27.968204",
     "exception": false,
     "start_time": "2024-03-20T21:28:27.961068",
     "status": "completed"
    },
    "tags": []
   },
   "source": [
    "Вычислим ошибку модели на тренировочной выборке."
   ]
  },
  {
   "cell_type": "code",
   "execution_count": 5,
   "id": "2ac23f8f",
   "metadata": {
    "execution": {
     "iopub.execute_input": "2024-03-20T21:28:27.985367Z",
     "iopub.status.busy": "2024-03-20T21:28:27.984224Z",
     "iopub.status.idle": "2024-03-20T21:28:31.016660Z",
     "shell.execute_reply": "2024-03-20T21:28:31.015400Z"
    },
    "papermill": {
     "duration": 3.043651,
     "end_time": "2024-03-20T21:28:31.019326",
     "exception": false,
     "start_time": "2024-03-20T21:28:27.975675",
     "status": "completed"
    },
    "tags": []
   },
   "outputs": [
    {
     "name": "stdout",
     "output_type": "stream",
     "text": [
      "Train F1-score: 6.479840855108599e-05\n"
     ]
    }
   ],
   "source": [
    "# y_pred = model.predict(X_train)\n",
    "y_pred = [0] * (len(y_train) - 100) + [1] * 100\n",
    "\n",
    "print(f\"Train F1-score: {f1_score(y_train, y_pred)}\")"
   ]
  },
  {
   "cell_type": "markdown",
   "id": "65e8764b",
   "metadata": {
    "papermill": {
     "duration": 0.007737,
     "end_time": "2024-03-20T21:28:31.035279",
     "exception": false,
     "start_time": "2024-03-20T21:28:31.027542",
     "status": "completed"
    },
    "tags": []
   },
   "source": [
    "В заключение получим столбец предсказаний принадлежностей треков плейлистам для тестовой выборки и сохраним его в виде csv-файла (обратите внимание, что в выходном файле должно быть два столбца -- **index** и **exists**)."
   ]
  },
  {
   "cell_type": "code",
   "execution_count": 6,
   "id": "c03b8209",
   "metadata": {
    "execution": {
     "iopub.execute_input": "2024-03-20T21:28:31.052752Z",
     "iopub.status.busy": "2024-03-20T21:28:31.052314Z",
     "iopub.status.idle": "2024-03-20T21:28:31.653321Z",
     "shell.execute_reply": "2024-03-20T21:28:31.652174Z"
    },
    "papermill": {
     "duration": 0.612554,
     "end_time": "2024-03-20T21:28:31.656011",
     "exception": false,
     "start_time": "2024-03-20T21:28:31.043457",
     "status": "completed"
    },
    "tags": []
   },
   "outputs": [],
   "source": [
    "# test_pred = model.predict(test.drop(\"index\", axis=1))\n",
    "test_pred = [0] * (len(test) - 100) + [1] * 100\n",
    "\n",
    "submission = pd.DataFrame({\"index\": test[\"index\"], \n",
    "                           \"exists\": test_pred})"
   ]
  },
  {
   "cell_type": "code",
   "execution_count": 7,
   "id": "9533f5ec",
   "metadata": {
    "execution": {
     "iopub.execute_input": "2024-03-20T21:28:31.673859Z",
     "iopub.status.busy": "2024-03-20T21:28:31.673446Z",
     "iopub.status.idle": "2024-03-20T21:28:33.250593Z",
     "shell.execute_reply": "2024-03-20T21:28:33.249408Z"
    },
    "papermill": {
     "duration": 1.589613,
     "end_time": "2024-03-20T21:28:33.253406",
     "exception": false,
     "start_time": "2024-03-20T21:28:31.663793",
     "status": "completed"
    },
    "tags": []
   },
   "outputs": [],
   "source": [
    "submission.to_csv(PATH_TO_KAGGLE_SUBMISSION, index=False)"
   ]
  },
  {
   "cell_type": "code",
   "execution_count": null,
   "id": "c6fe15b0",
   "metadata": {
    "papermill": {
     "duration": 0.007073,
     "end_time": "2024-03-20T21:28:33.268520",
     "exception": false,
     "start_time": "2024-03-20T21:28:33.261447",
     "status": "completed"
    },
    "tags": []
   },
   "outputs": [],
   "source": []
  }
 ],
 "metadata": {
  "kaggle": {
   "accelerator": "none",
   "dataSources": [
    {
     "databundleVersionId": 8006085,
     "sourceId": 72844,
     "sourceType": "competition"
    }
   ],
   "dockerImageVersionId": 30664,
   "isGpuEnabled": false,
   "isInternetEnabled": true,
   "language": "python",
   "sourceType": "notebook"
  },
  "kernelspec": {
   "display_name": "Python 3",
   "language": "python",
   "name": "python3"
  },
  "language_info": {
   "codemirror_mode": {
    "name": "ipython",
    "version": 3
   },
   "file_extension": ".py",
   "mimetype": "text/x-python",
   "name": "python",
   "nbconvert_exporter": "python",
   "pygments_lexer": "ipython3",
   "version": "3.11.7"
  },
  "papermill": {
   "default_parameters": {},
   "duration": 17.915213,
   "end_time": "2024-03-20T21:28:34.098659",
   "environment_variables": {},
   "exception": null,
   "input_path": "__notebook__.ipynb",
   "output_path": "__notebook__.ipynb",
   "parameters": {},
   "start_time": "2024-03-20T21:28:16.183446",
   "version": "2.5.0"
  }
 },
 "nbformat": 4,
 "nbformat_minor": 5
}
